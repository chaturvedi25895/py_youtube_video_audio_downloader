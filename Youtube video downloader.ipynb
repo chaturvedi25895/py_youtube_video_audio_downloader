{
 "cells": [
  {
   "cell_type": "code",
   "execution_count": 7,
   "metadata": {},
   "outputs": [
    {
     "name": "stdout",
     "output_type": "stream",
     "text": [
      "Please provide the URL to download: https://www.youtube.com/watch?v=sCbbMZ-q4-I&list=RDCLAK5uy_n9Fbdw7e6ap-98_A-8JYBmPv64v-Uaq1g&start_radio=1\n"
     ]
    },
    {
     "data": {
      "text/plain": [
       "'C:\\\\Users\\\\Kokila\\\\Python\\\\new\\\\Youtube\\\\Lut Gaye (Full Song) Emraan Hashmi Yukti  Jubin N Tanishk B Manoj M  Bhushan K  Radhika-Vinay.mp4'"
      ]
     },
     "execution_count": 7,
     "metadata": {},
     "output_type": "execute_result"
    }
   ],
   "source": [
    "from pytube import YouTube as yt\n",
    "url = input(\"Please provide the URL to download: \")\n",
    "#\"https://www.youtube.com/watch?v=AmEhqGLbmGs\"\n",
    "#\"https://www.youtube.com/watch?v=JGwWNGJdvx8\"\n",
    "#\"https://www.youtube.com/watch?v=dx4Teh-nv3A\"\n",
    "youtube_url = yt(url)\n",
    "high_resolution_youtube_link = youtube_url.streams.get_highest_resolution()\n",
    "high_resolution_youtube_link.download()"
   ]
  },
  {
   "cell_type": "code",
   "execution_count": null,
   "metadata": {},
   "outputs": [],
   "source": []
  }
 ],
 "metadata": {
  "kernelspec": {
   "display_name": "Python 3",
   "language": "python",
   "name": "python3"
  },
  "language_info": {
   "codemirror_mode": {
    "name": "ipython",
    "version": 3
   },
   "file_extension": ".py",
   "mimetype": "text/x-python",
   "name": "python",
   "nbconvert_exporter": "python",
   "pygments_lexer": "ipython3",
   "version": "3.7.0"
  }
 },
 "nbformat": 4,
 "nbformat_minor": 2
}
